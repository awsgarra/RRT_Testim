{
  "cells": [
    {
      "cell_type": "markdown",
      "metadata": {
        "id": "JgKgYhAv0C7l"
      },
      "source": [
        "# Alpaca-py options trading basic"
      ]
    },
    {
      "cell_type": "markdown",
      "metadata": {
        "id": "gNbbc4w20C7o"
      },
      "source": [
        "[![Open In Colab](https://colab.research.google.com/assets/colab-badge.svg)](https://colab.research.google.com/github/alpacahq/alpaca-py/blob/master/examples/options-trading-basic.ipynb)"
      ]
    },
    {
      "cell_type": "markdown",
      "metadata": {
        "id": "cxG5jkC60C7p"
      },
      "source": [
        "- This notebook shows how to use alpaca-py with options trading API endpoints\n",
        "- Please use ``paper account``. Please ``DO NOT`` use this notebook with live account. In this notebook, we place orders for options as an example."
      ]
    },
    {
      "cell_type": "code",
      "execution_count": null,
      "metadata": {
        "id": "fxHkS7Zp0C7p"
      },
      "outputs": [],
      "source": [
        "# Please change the following to your own PAPER api key and secret\n",
        "# You can get them from https://alpaca.markets/\n",
        "\n",
        "# api_key = \"<YOUR PAPER API KEY>\"\n",
        "# secret_key = \"<YOUR PAPER API SECRET>\"\n",
        "\n",
        "api_key = \"PKIZIAJPNX5J76APEZC2\"\n",
        "secret_key = \"weSQCYiGHACg5WFwAW2SCwWZJTcuGUXux8SJQkqV\"\n",
        "\n",
        "#### We use paper environment for this example ####\n",
        "paper = True # Please do not modify this. This example is for paper trading only.\n",
        "####\n",
        "\n",
        "# Below are the variables for development this documents\n",
        "# Please do not change these variables\n",
        "\n",
        "trade_api_url = https://paper-api.alpaca.markets/v2\n",
        "trade_api_wss = None\n",
        "data_api_url = None\n",
        "option_stream_data_wss = None"
      ]
    },
    {
      "cell_type": "code",
      "execution_count": 1,
      "metadata": {
        "colab": {
          "base_uri": "https://localhost:8080/"
        },
        "id": "uu0mgkvm0C7q",
        "outputId": "097d63e2-6078-4999-ec92-77205e675ae2"
      },
      "outputs": [
        {
          "output_type": "stream",
          "name": "stdout",
          "text": [
            "Collecting alpaca-py\n",
            "  Downloading alpaca_py-0.34.0-py3-none-any.whl.metadata (12 kB)\n",
            "Requirement already satisfied: msgpack<2.0.0,>=1.0.3 in /usr/local/lib/python3.10/dist-packages (from alpaca-py) (1.1.0)\n",
            "Requirement already satisfied: pandas>=1.5.3 in /usr/local/lib/python3.10/dist-packages (from alpaca-py) (2.2.2)\n",
            "Requirement already satisfied: pydantic<3.0.0,>=2.0.3 in /usr/local/lib/python3.10/dist-packages (from alpaca-py) (2.10.3)\n",
            "Requirement already satisfied: requests<3.0.0,>=2.30.0 in /usr/local/lib/python3.10/dist-packages (from alpaca-py) (2.32.3)\n",
            "Collecting sseclient-py<2.0.0,>=1.7.2 (from alpaca-py)\n",
            "  Downloading sseclient_py-1.8.0-py2.py3-none-any.whl.metadata (2.0 kB)\n",
            "Requirement already satisfied: websockets>=10.4 in /usr/local/lib/python3.10/dist-packages (from alpaca-py) (14.1)\n",
            "Requirement already satisfied: numpy>=1.22.4 in /usr/local/lib/python3.10/dist-packages (from pandas>=1.5.3->alpaca-py) (1.26.4)\n",
            "Requirement already satisfied: python-dateutil>=2.8.2 in /usr/local/lib/python3.10/dist-packages (from pandas>=1.5.3->alpaca-py) (2.8.2)\n",
            "Requirement already satisfied: pytz>=2020.1 in /usr/local/lib/python3.10/dist-packages (from pandas>=1.5.3->alpaca-py) (2024.2)\n",
            "Requirement already satisfied: tzdata>=2022.7 in /usr/local/lib/python3.10/dist-packages (from pandas>=1.5.3->alpaca-py) (2024.2)\n",
            "Requirement already satisfied: annotated-types>=0.6.0 in /usr/local/lib/python3.10/dist-packages (from pydantic<3.0.0,>=2.0.3->alpaca-py) (0.7.0)\n",
            "Requirement already satisfied: pydantic-core==2.27.1 in /usr/local/lib/python3.10/dist-packages (from pydantic<3.0.0,>=2.0.3->alpaca-py) (2.27.1)\n",
            "Requirement already satisfied: typing-extensions>=4.12.2 in /usr/local/lib/python3.10/dist-packages (from pydantic<3.0.0,>=2.0.3->alpaca-py) (4.12.2)\n",
            "Requirement already satisfied: charset-normalizer<4,>=2 in /usr/local/lib/python3.10/dist-packages (from requests<3.0.0,>=2.30.0->alpaca-py) (3.4.0)\n",
            "Requirement already satisfied: idna<4,>=2.5 in /usr/local/lib/python3.10/dist-packages (from requests<3.0.0,>=2.30.0->alpaca-py) (3.10)\n",
            "Requirement already satisfied: urllib3<3,>=1.21.1 in /usr/local/lib/python3.10/dist-packages (from requests<3.0.0,>=2.30.0->alpaca-py) (2.2.3)\n",
            "Requirement already satisfied: certifi>=2017.4.17 in /usr/local/lib/python3.10/dist-packages (from requests<3.0.0,>=2.30.0->alpaca-py) (2024.12.14)\n",
            "Requirement already satisfied: six>=1.5 in /usr/local/lib/python3.10/dist-packages (from python-dateutil>=2.8.2->pandas>=1.5.3->alpaca-py) (1.17.0)\n",
            "Downloading alpaca_py-0.34.0-py3-none-any.whl (120 kB)\n",
            "\u001b[2K   \u001b[90m━━━━━━━━━━━━━━━━━━━━━━━━━━━━━━━━━━━━━━━━\u001b[0m \u001b[32m120.4/120.4 kB\u001b[0m \u001b[31m2.6 MB/s\u001b[0m eta \u001b[36m0:00:00\u001b[0m\n",
            "\u001b[?25hDownloading sseclient_py-1.8.0-py2.py3-none-any.whl (8.8 kB)\n",
            "Installing collected packages: sseclient-py, alpaca-py\n",
            "Successfully installed alpaca-py-0.34.0 sseclient-py-1.8.0\n"
          ]
        }
      ],
      "source": [
        "# install alpaca-py\n",
        "! python3 -m pip install alpaca-py"
      ]
    },
    {
      "cell_type": "code",
      "execution_count": 2,
      "metadata": {
        "id": "tRBf0_AE0C7r"
      },
      "outputs": [],
      "source": [
        "import json\n",
        "from datetime import datetime, timedelta\n",
        "from zoneinfo import ZoneInfo\n",
        "\n",
        "import alpaca\n",
        "from alpaca.trading.client import TradingClient\n",
        "from alpaca.data.timeframe import TimeFrame, TimeFrameUnit\n",
        "from alpaca.data.historical.option import OptionHistoricalDataClient\n",
        "from alpaca.trading.stream import TradingStream\n",
        "from alpaca.data.live.option import OptionDataStream\n",
        "\n",
        "from alpaca.data.requests import (\n",
        "    OptionBarsRequest,\n",
        "    OptionTradesRequest,\n",
        "    OptionLatestQuoteRequest,\n",
        "    OptionLatestTradeRequest,\n",
        "    OptionSnapshotRequest,\n",
        "    OptionChainRequest\n",
        ")\n",
        "from alpaca.trading.requests import (\n",
        "    GetOptionContractsRequest,\n",
        "    GetAssetsRequest,\n",
        "    MarketOrderRequest,\n",
        "    GetOrdersRequest,\n",
        "    ClosePositionRequest\n",
        ")\n",
        "from alpaca.trading.enums import (\n",
        "    AssetStatus,\n",
        "    ExerciseStyle,\n",
        "    OrderSide,\n",
        "    OrderType,\n",
        "    TimeInForce,\n",
        "    QueryOrderStatus\n",
        ")\n",
        "from alpaca.common.exceptions import APIError"
      ]
    },
    {
      "cell_type": "code",
      "execution_count": 3,
      "metadata": {
        "id": "p-JFilPG0C7r"
      },
      "outputs": [],
      "source": [
        "# to run async code in jupyter notebook\n",
        "import nest_asyncio\n",
        "nest_asyncio.apply()"
      ]
    },
    {
      "cell_type": "code",
      "execution_count": 4,
      "metadata": {
        "colab": {
          "base_uri": "https://localhost:8080/",
          "height": 36
        },
        "id": "RXv_O_2M0C7s",
        "outputId": "bee13de1-23e4-4a4a-f970-df836c870ad5"
      },
      "outputs": [
        {
          "output_type": "execute_result",
          "data": {
            "text/plain": [
              "'0.34.0'"
            ],
            "application/vnd.google.colaboratory.intrinsic+json": {
              "type": "string"
            }
          },
          "metadata": {},
          "execution_count": 4
        }
      ],
      "source": [
        "# check version of alpaca-py\n",
        "alpaca.__version__"
      ]
    },
    {
      "cell_type": "markdown",
      "metadata": {
        "id": "O72ZF53e0C7t"
      },
      "source": [
        "# Trading Client"
      ]
    },
    {
      "cell_type": "code",
      "execution_count": null,
      "metadata": {
        "id": "pbZx279Q0C7t"
      },
      "outputs": [],
      "source": [
        "# setup clients\n",
        "trade_client = TradingClient(api_key=api_key, secret_key=secret_key, paper=paper, url_override=trade_api_url)"
      ]
    },
    {
      "cell_type": "code",
      "execution_count": null,
      "metadata": {
        "id": "AZGxhqAj0C7t"
      },
      "outputs": [],
      "source": [
        "# check trading account\n",
        "# There are trhee new columns in the account object:\n",
        "# - options_buying_power\n",
        "# - options_approved_level\n",
        "# - options_trading_level\n",
        "acct = trade_client.get_account()\n",
        "acct"
      ]
    },
    {
      "cell_type": "code",
      "execution_count": null,
      "metadata": {
        "id": "E1WvK_o70C7u"
      },
      "outputs": [],
      "source": [
        "# check account configuration\n",
        "# - we have new field `max_options_trading_level`\n",
        "acct_config = trade_client.get_account_configurations()\n",
        "acct_config"
      ]
    },
    {
      "cell_type": "code",
      "execution_count": null,
      "metadata": {
        "id": "4PiXU1Hy0C7u"
      },
      "outputs": [],
      "source": [
        "# get list of assets which are options enabled\n",
        "# - we can filter assets by `options_enabled` attribute\n",
        "# - asset object has `options_enabled` attribute if it is options enabled\n",
        "req = GetAssetsRequest(\n",
        "  attributes = \"options_enabled\"\n",
        ")\n",
        "assets = trade_client.get_all_assets(req)\n",
        "assets[:2]"
      ]
    },
    {
      "cell_type": "code",
      "execution_count": null,
      "metadata": {
        "id": "pIFFI9eE0C7u"
      },
      "outputs": [],
      "source": [
        "# get list of options contracts for the given underlying symbol (e.g. SPY,AAPL)\n",
        "# - get_option_contracts() is a new method to get list of options contracts\n",
        "# - in this example, we get 2 options contracts for SPY,AAPL\n",
        "# - you can continue to fetch options contracts by specifying page_token from next_page_token of response\n",
        "underlying_symbols = [\"SPY\", \"AAPL\"]\n",
        "req = GetOptionContractsRequest(\n",
        "    underlying_symbols = underlying_symbols,               # specify underlying symbols\n",
        "    status = AssetStatus.ACTIVE,                           # specify asset status: active (default)\n",
        "    expiration_date = None,                                # specify expiration date (specified date + 1 day range)\n",
        "    expiration_date_gte = None,                            # we can pass date object\n",
        "    expiration_date_lte = None,                            # or string (YYYY-MM-DD)\n",
        "    root_symbol = None,                                    # specify root symbol\n",
        "    type = None,                                           # specify option type (ContractType.CALL or ContractType.PUT)\n",
        "    style = None,                                          # specify option style (ContractStyle.AMERICAN or ContractStyle.EUROPEAN)\n",
        "    strike_price_gte = None,                               # specify strike price range\n",
        "    strike_price_lte = None,                               # specify strike price range\n",
        "    limit = 2,                                             # specify limit\n",
        "    page_token = None,                                     # specify page token\n",
        ")\n",
        "res = trade_client.get_option_contracts(req)\n",
        "res"
      ]
    },
    {
      "cell_type": "code",
      "execution_count": null,
      "metadata": {
        "id": "ogH0hL2H0C7u"
      },
      "outputs": [],
      "source": [
        "# continue to fetch option contracts if there is next_page_token in response\n",
        "if res.next_page_token is not None:\n",
        "    req = GetOptionContractsRequest(\n",
        "        underlying_symbols = underlying_symbols,               # specify underlying symbols\n",
        "        status = AssetStatus.ACTIVE,                           # specify asset status: active (default)\n",
        "        expiration_date = None,                                # specify expiration date (specified date + 1 day range)\n",
        "        expiration_date_gte = None,                            # we can pass date object\n",
        "        expiration_date_lte = None,                            # or string (YYYY-MM-DD)\n",
        "        root_symbol = None,                                    # specify root symbol\n",
        "        type = None,                                           # specify option type (ContractType.CALL or ContractType.PUT)\n",
        "        style = None,                                          # specify option style (ContractStyle.AMERICAN or ContractStyle.EUROPEAN)\n",
        "        strike_price_gte = None,                               # specify strike price range\n",
        "        strike_price_lte = None,                               # specify strike price range\n",
        "        limit = 2,                                             # specify limit\n",
        "        page_token = res.next_page_token,                      # specify page token\n",
        "    )\n",
        "    res = trade_client.get_option_contracts(req)\n",
        "    display(res)"
      ]
    },
    {
      "cell_type": "code",
      "execution_count": null,
      "metadata": {
        "id": "Q5Niw9Dq0C7v"
      },
      "outputs": [],
      "source": [
        "# get options contract by symbol\n",
        "# - get_option_contract() is a new method to get options contract by symbol or id\n",
        "symbol = res.option_contracts[0].symbol\n",
        "contract = trade_client.get_option_contract(symbol)\n",
        "contract"
      ]
    },
    {
      "cell_type": "code",
      "execution_count": null,
      "metadata": {
        "id": "K0FvlMje0C7w"
      },
      "outputs": [],
      "source": [
        "# get options contract by id\n",
        "id = res.option_contracts[0].id\n",
        "contract = trade_client.get_option_contract(symbol_or_id=id)\n",
        "contract"
      ]
    },
    {
      "cell_type": "code",
      "execution_count": null,
      "metadata": {
        "id": "3qmhJcTm0C7w"
      },
      "outputs": [],
      "source": [
        "# get put options contracts\n",
        "underlying_symbols = [\"SPY\"]\n",
        "\n",
        "# specify expiration date range\n",
        "now = datetime.now(tz = ZoneInfo(\"America/New_York\"))\n",
        "day1 = now + timedelta(days = 1)\n",
        "day60 = now + timedelta(days = 60)\n",
        "\n",
        "req = GetOptionContractsRequest(\n",
        "    underlying_symbols = underlying_symbols,                     # specify underlying symbols\n",
        "    status = AssetStatus.ACTIVE,                                 # specify asset status: active (default)\n",
        "    expiration_date = None,                                      # specify expiration date (specified date + 1 day range)\n",
        "    expiration_date_gte = day1.date(),                           # we can pass date object\n",
        "    expiration_date_lte = day60.strftime(format = \"%Y-%m-%d\"),   # or string\n",
        "    root_symbol = None,                                          # specify root symbol\n",
        "    type = \"put\",                                                # specify option type: put\n",
        "    style = ExerciseStyle.AMERICAN,                              # specify option style: american\n",
        "    strike_price_gte = None,                                     # specify strike price range\n",
        "    strike_price_lte = None,                                     # specify strike price range\n",
        "    limit = 100,                                                 # specify limit\n",
        "    page_token = None,                                           # specify page\n",
        ")\n",
        "res = trade_client.get_option_contracts(req)\n",
        "res.option_contracts[:2]"
      ]
    },
    {
      "cell_type": "code",
      "execution_count": null,
      "metadata": {
        "id": "hTw1KDjU0C7w"
      },
      "outputs": [],
      "source": [
        "# get high open_interest contract\n",
        "open_interest = 0\n",
        "high_open_interest_contract = None\n",
        "for contract in res.option_contracts:\n",
        "    if (contract.open_interest is not None) and (int(contract.open_interest) > open_interest):\n",
        "        open_interest = int(contract.open_interest)\n",
        "        high_open_interest_contract = contract\n",
        "high_open_interest_contract"
      ]
    },
    {
      "cell_type": "code",
      "execution_count": null,
      "metadata": {
        "id": "KKDIPVfS0C7w"
      },
      "outputs": [],
      "source": [
        "# place buy put option order\n",
        "# - we can place buy put option order same as buy stock/crypto order\n",
        "req = MarketOrderRequest(\n",
        "    symbol = high_open_interest_contract.symbol,\n",
        "    qty = 1,\n",
        "    side = OrderSide.BUY,\n",
        "    type = OrderType.MARKET,\n",
        "    time_in_force = TimeInForce.DAY,\n",
        ")\n",
        "res = trade_client.submit_order(req)\n",
        "res"
      ]
    },
    {
      "cell_type": "code",
      "execution_count": null,
      "metadata": {
        "id": "jCTlCx7A0C7w"
      },
      "outputs": [],
      "source": [
        "# get list of orders by specifying option contract symbol\n",
        "req = GetOrdersRequest(\n",
        "    status = QueryOrderStatus.ALL,\n",
        "    symbols = [high_open_interest_contract.symbol],\n",
        "    limit = 2,\n",
        ")\n",
        "orders = trade_client.get_orders(req)\n",
        "orders"
      ]
    },
    {
      "cell_type": "code",
      "execution_count": null,
      "metadata": {
        "id": "xxVNQK5W0C7x"
      },
      "outputs": [],
      "source": [
        "# below cells should be done after market open otherwise there is no position for the option contract\n",
        "\n",
        "# get positions filtered by option contract symbol\n",
        "# if you do this example outside of market hours, you will see empty list\n",
        "# because we have no position in this option contract\n",
        "# please wait market open and run this example again\n",
        "positions = trade_client.get_all_positions()\n",
        "[pos for pos in positions if pos.symbol == high_open_interest_contract.symbol]"
      ]
    },
    {
      "cell_type": "code",
      "execution_count": null,
      "metadata": {
        "id": "2oPpDlkW0C7x"
      },
      "outputs": [],
      "source": [
        "# get positions by symbol\n",
        "trade_client.get_open_position(symbol_or_asset_id=high_open_interest_contract.symbol)\n"
      ]
    },
    {
      "cell_type": "code",
      "execution_count": null,
      "metadata": {
        "id": "WQsRnlGD0C7x"
      },
      "outputs": [],
      "source": [
        "# get positions by contract id\n",
        "trade_client.get_open_position(symbol_or_asset_id = high_open_interest_contract.id)"
      ]
    },
    {
      "cell_type": "code",
      "execution_count": null,
      "metadata": {
        "id": "s2TCwpPr0C7x"
      },
      "outputs": [],
      "source": [
        "# close the option position\n",
        "trade_client.close_position(\n",
        "    symbol_or_asset_id = high_open_interest_contract.symbol,\n",
        "    close_options = ClosePositionRequest(qty = \"1\")\n",
        ")"
      ]
    },
    {
      "cell_type": "code",
      "execution_count": null,
      "metadata": {
        "id": "yWSLrI4v0C7x"
      },
      "outputs": [],
      "source": [
        "# exercise the options position\n",
        "# - this method does not return anything\n",
        "trade_client.exercise_options_position(\n",
        "    symbol_or_contract_id = high_open_interest_contract.symbol\n",
        ")"
      ]
    },
    {
      "cell_type": "markdown",
      "metadata": {
        "id": "9iIKkoSO0C7x"
      },
      "source": [
        "# Trade Update (Stream)"
      ]
    },
    {
      "cell_type": "markdown",
      "metadata": {
        "id": "l310v6PU0C7x"
      },
      "source": [
        "With TradingStream client, you can get updates about trades\n",
        "\n",
        "fyi. you can open this notebook in another window and run below cell to check trade updates."
      ]
    },
    {
      "cell_type": "code",
      "execution_count": null,
      "metadata": {
        "id": "eWGRHbLR0C7y"
      },
      "outputs": [],
      "source": [
        "# subscribe trade updates\n",
        "trade_stream_client = TradingStream(api_key, secret_key, paper=paper, url_override = trade_api_wss)\n",
        "\n",
        "async def trade_updates_handler(data):\n",
        "    print(data)\n",
        "\n",
        "trade_stream_client.subscribe_trade_updates(trade_updates_handler)\n",
        "trade_stream_client.run()"
      ]
    },
    {
      "cell_type": "markdown",
      "metadata": {
        "id": "BYnQ915u0C7y"
      },
      "source": [
        "# Market Data (Historical)"
      ]
    },
    {
      "cell_type": "code",
      "execution_count": null,
      "metadata": {
        "id": "_zgfiupU0C7y"
      },
      "outputs": [],
      "source": [
        "# setup option historical data client\n",
        "option_historical_data_client = OptionHistoricalDataClient(api_key, secret_key, url_override = data_api_url)"
      ]
    },
    {
      "cell_type": "code",
      "execution_count": null,
      "metadata": {
        "id": "zCuP4Tgp0C7y"
      },
      "outputs": [],
      "source": [
        "# get options historical bars by symbol\n",
        "req = OptionBarsRequest(\n",
        "    symbol_or_symbols = high_open_interest_contract.symbol,\n",
        "    timeframe = TimeFrame(amount = 1, unit = TimeFrameUnit.Hour),   # specify timeframe\n",
        "    start = now - timedelta(days = 5),                              # specify start datetime, default=the beginning of the current day.\n",
        "    # end_date=None,                                                # specify end datetime, default=now\n",
        "    limit = 2,                                                      # specify limit\n",
        ")\n",
        "option_historical_data_client.get_option_bars(req).df"
      ]
    },
    {
      "cell_type": "code",
      "execution_count": null,
      "metadata": {
        "id": "DQaMtf1Q0C7y"
      },
      "outputs": [],
      "source": [
        "# get options historical trades by symbol\n",
        "req = OptionTradesRequest(\n",
        "    symbol_or_symbols = high_open_interest_contract.symbol,\n",
        "    start = now - timedelta(days = 5),                              # specify start datetime, default=the beginning of the current day.\n",
        "    # end=None,                                                     # specify end datetime, default=now\n",
        "    limit = 2,                                                      # specify limit\n",
        ")\n",
        "option_historical_data_client.get_option_trades(req).df"
      ]
    },
    {
      "cell_type": "code",
      "execution_count": null,
      "metadata": {
        "id": "rP7KryJg0C7y"
      },
      "outputs": [],
      "source": [
        "# get options exchange codes\n",
        "option_historical_data_client.get_option_exchange_codes()"
      ]
    },
    {
      "cell_type": "code",
      "execution_count": null,
      "metadata": {
        "id": "HmxppOAI0C7y"
      },
      "outputs": [],
      "source": [
        "# get option latest quote by symbol\n",
        "req = OptionLatestQuoteRequest(\n",
        "    symbol_or_symbols = [high_open_interest_contract.symbol],\n",
        ")\n",
        "option_historical_data_client.get_option_latest_quote(req)"
      ]
    },
    {
      "cell_type": "code",
      "execution_count": null,
      "metadata": {
        "id": "d6hrZPy60C7z"
      },
      "outputs": [],
      "source": [
        "# get option latest trade by symbol\n",
        "req = OptionLatestTradeRequest(\n",
        "    symbol_or_symbols = [high_open_interest_contract.symbol],\n",
        ")\n",
        "option_historical_data_client.get_option_latest_trade(req)"
      ]
    },
    {
      "cell_type": "code",
      "execution_count": null,
      "metadata": {
        "id": "U72hcwqs0C7z"
      },
      "outputs": [],
      "source": [
        "# get option snapshot by symbol\n",
        "req = OptionSnapshotRequest(\n",
        "    symbol_or_symbols = [high_open_interest_contract.symbol],\n",
        ")\n",
        "option_historical_data_client.get_option_snapshot(req)"
      ]
    },
    {
      "cell_type": "code",
      "execution_count": null,
      "metadata": {
        "id": "GwasN0gj0C7z"
      },
      "outputs": [],
      "source": [
        "# get option chain by underlying_symbol\n",
        "req = OptionChainRequest(\n",
        "    underlying_symbol = high_open_interest_contract.underlying_symbol,\n",
        ")\n",
        "option_historical_data_client.get_option_chain(req)"
      ]
    },
    {
      "cell_type": "markdown",
      "metadata": {
        "id": "CwvjSChk0C7z"
      },
      "source": [
        "# Market Data (Stream)"
      ]
    },
    {
      "cell_type": "code",
      "execution_count": null,
      "metadata": {
        "id": "1xZ7Xkfy0C73"
      },
      "outputs": [],
      "source": [
        "option_data_stream_client = OptionDataStream(api_key, secret_key, url_override = option_stream_data_wss)\n",
        "\n",
        "async def option_data_stream_handler(data):\n",
        "    print(data)\n",
        "\n",
        "symbols = [\n",
        "    high_open_interest_contract.symbol,\n",
        "]\n",
        "\n",
        "option_data_stream_client.subscribe_quotes(option_data_stream_handler, *symbols)\n",
        "option_data_stream_client.subscribe_trades(option_data_stream_handler, *symbols)\n",
        "\n",
        "option_data_stream_client.run()"
      ]
    }
  ],
  "metadata": {
    "kernelspec": {
      "display_name": ".venv",
      "language": "python",
      "name": "python3"
    },
    "language_info": {
      "codemirror_mode": {
        "name": "ipython",
        "version": 3
      },
      "file_extension": ".py",
      "mimetype": "text/x-python",
      "name": "python",
      "nbconvert_exporter": "python",
      "pygments_lexer": "ipython3",
      "version": "3.12.2"
    },
    "colab": {
      "provenance": [],
      "history_visible": true
    }
  },
  "nbformat": 4,
  "nbformat_minor": 0
}